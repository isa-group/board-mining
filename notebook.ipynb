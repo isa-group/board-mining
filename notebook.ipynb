{
 "cells": [
  {
   "cell_type": "code",
   "execution_count": 63,
   "metadata": {},
   "outputs": [],
   "source": [
    "import requests, json\n",
    "import pandas as pd\n",
    "from googlesearch import search\n",
    "from pathlib import Path\n",
    "import glob\n",
    "\n",
    "def processTrelloData():\n",
    "\n",
    "    path = r'ROUTE TO .json FILES' # NEED TO CHANGE TO PROPER ROUTE\n",
    "    file_list = glob.glob(path + \"/*.json\")\n",
    "\n",
    "    for i in range(1,len(file_list)):\n",
    "        try:\n",
    "            with open(file_list[i], encoding='UTF-8') as json_file:\n",
    "                data = json.load(json_file)\n",
    "                data = data[\"actions\"]\n",
    "\n",
    "            df = pd.DataFrame.from_dict(pd.json_normalize(data), orient='columns')\n",
    "            df = df.drop(df.filter(regex='memberCreator').columns, axis=1)\n",
    "            df.to_csv(df[\"data.board.name\"][0] + '.csv') \n",
    "        except Exception as e: \n",
    "            print(e)\n",
    "            pass\n",
    "\n",
    "def getGoogleUrls():\n",
    "    query = \"site:trello.com/b/\"\n",
    "    urls = []\n",
    "    for j in search(query, num=100, stop=1000, pause=2):\n",
    "        urls.append(j)\n",
    "    \n",
    "    MyFile=open('output.txt','w')\n",
    "    for element in urls:\n",
    "        MyFile.write(element+\".json\")\n",
    "        MyFile.write('\\n')\n",
    "    MyFile.close()\n",
    "\n",
    "    return urls"
   ]
  },
  {
   "cell_type": "code",
   "execution_count": 64,
   "metadata": {},
   "outputs": [
    {
     "name": "stdout",
     "output_type": "stream",
     "text": [
      "[Errno 22] Invalid argument: 'MPD | Patrol Services Bureau.csv'\n",
      "[Errno 22] Invalid argument: '|TVL|.csv'\n",
      "Cannot save file into a non-existent directory: 'Weekly Board 06\\21-25'\n",
      "Cannot save file into a non-existent directory: 'Passe 27'\n",
      "[Errno 22] Invalid argument: 'Trello \"Recent Activity\" Integration.csv'\n",
      "[Errno 22] Invalid argument: 'LUSHIVE | Trello Bans.csv'\n",
      "Cannot save file into a non-existent directory: 'Comisiones'\n",
      "[Errno 22] Invalid argument: '??? JRPG RP.csv'\n",
      "Cannot save file into a non-existent directory: 'Nucleus UX'\n"
     ]
    }
   ],
   "source": [
    "#list = getGoogleUrls()\n",
    "\n",
    "processTrelloData()\n"
   ]
  }
 ],
 "metadata": {
  "interpreter": {
   "hash": "fb2a1625f4cfa4bac99e5c74f9469dfab50c3885de75b37cdd09dc4436aa4099"
  },
  "kernelspec": {
   "display_name": "Python 3.9.10 64-bit (windows store)",
   "language": "python",
   "name": "python3"
  },
  "language_info": {
   "codemirror_mode": {
    "name": "ipython",
    "version": 3
   },
   "file_extension": ".py",
   "mimetype": "text/x-python",
   "name": "python",
   "nbconvert_exporter": "python",
   "pygments_lexer": "ipython3",
   "version": "3.9.10"
  },
  "orig_nbformat": 4
 },
 "nbformat": 4,
 "nbformat_minor": 2
}
