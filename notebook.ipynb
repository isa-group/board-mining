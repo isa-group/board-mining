{
 "cells": [
  {
   "cell_type": "code",
   "execution_count": 28,
   "metadata": {},
   "outputs": [],
   "source": [
    "import requests, json\n",
    "import pandas as pd\n",
    "from googlesearch import search\n",
    "\n",
    "def processTrelloData(listOfjson):\n",
    "\n",
    "    for i in listOfjson:\n",
    "        try:\n",
    "            url = requests.get(i)\n",
    "            text = url.text\n",
    "            data = json.loads(text)\n",
    "            data = data[\"actions\"]\n",
    "\n",
    "            df = pd.DataFrame.from_dict(pd.json_normalize(data), orient='columns')\n",
    "\n",
    "            df = df.drop(df.filter(regex='memberCreator').columns, axis=1)\n",
    "\n",
    "            df.to_csv(df[\"data.board.name\"][0] + '.csv') \n",
    "        except:\n",
    "            pass\n",
    "\n",
    "def getGoogleUrls():\n",
    "    query = \"site:trello.com/b/\"\n",
    "    urls = []\n",
    "    for j in search(query, num=10, stop=10, pause=2):\n",
    "        urls.append(j + \".json\")\n",
    "\n",
    "    return urls"
   ]
  },
  {
   "cell_type": "code",
   "execution_count": 30,
   "metadata": {},
   "outputs": [
    {
     "name": "stdout",
     "output_type": "stream",
     "text": [
      "['https://trello.com/b/OEMUvPzz/unitale.json', 'https://trello.com/b/QVtM2tIW/trello.json', 'https://trello.com/b/YjL0Aozl/0506chemie.json', 'https://trello.com/b/6f7q8Oyr/przepisnik.json', 'https://trello.com/b/PrnDP176/youtube.json', 'https://trello.com/b/dWVK5XOb/-.json', 'https://trello.com/b/Cn60iO2w/trello.json', 'https://trello.com/b/1y1sD8jf/homatron.json', 'https://trello.com/b/02FDT60g/crisgraphinux.json', 'https://trello.com/b/stl2nWjK/commissions.json']\n"
     ]
    }
   ],
   "source": [
    "list = getGoogleUrls()\n",
    "\n",
    "processTrelloData(list)\n"
   ]
  }
 ],
 "metadata": {
  "interpreter": {
   "hash": "fb2a1625f4cfa4bac99e5c74f9469dfab50c3885de75b37cdd09dc4436aa4099"
  },
  "kernelspec": {
   "display_name": "Python 3.9.10 64-bit (windows store)",
   "language": "python",
   "name": "python3"
  },
  "language_info": {
   "codemirror_mode": {
    "name": "ipython",
    "version": 3
   },
   "file_extension": ".py",
   "mimetype": "text/x-python",
   "name": "python",
   "nbconvert_exporter": "python",
   "pygments_lexer": "ipython3",
   "version": "3.9.10"
  },
  "orig_nbformat": 4
 },
 "nbformat": 4,
 "nbformat_minor": 2
}
