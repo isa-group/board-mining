{
  "cells": [
    {
      "cell_type": "markdown",
      "metadata": {
        "id": "XShCsR8kLDkn"
      },
      "source": [
        "## Configuration and import"
      ]
    },
    {
      "cell_type": "code",
      "execution_count": null,
      "metadata": {
        "id": "oWKa69eRLDki"
      },
      "outputs": [],
      "source": [
        "%load_ext autoreload\n",
        "%autoreload 2"
      ]
    },
    {
      "cell_type": "code",
      "execution_count": null,
      "metadata": {
        "colab": {
          "base_uri": "https://localhost:8080/"
        },
        "id": "qEVsNOhELIHk",
        "outputId": "d69df3d4-f9b9-4dcb-8642-3563839c7aed"
      },
      "outputs": [],
      "source": [
        "!pip install pm4py\n",
        "from google.colab import drive\n",
        "drive.mount('/content/drive')\n",
        "!cp /content/drive/MyDrive/trello-logs/CSVs-completos.zip .\n",
        "!cp /content/drive/MyDrive/trello-logs/bomi.py .\n",
        "!unzip CSVs-completos.zip"
      ]
    },
    {
      "cell_type": "code",
      "execution_count": null,
      "metadata": {
        "id": "fSELi9bULZdD"
      },
      "outputs": [],
      "source": [
        "import pandas as pd\n",
        "import numpy as np\n",
        "import seaborn as sns\n",
        "import matplotlib.pyplot as plt\n",
        "\n",
        "import bomi"
      ]
    },
    {
      "cell_type": "code",
      "execution_count": null,
      "metadata": {
        "id": "YqM-9K3lLeTs"
      },
      "outputs": [],
      "source": [
        "pd.set_option(\"display.max_columns\", None)\n",
        "pd.set_option(\"display.max_rows\", None)"
      ]
    },
    {
      "cell_type": "markdown",
      "metadata": {
        "id": "SMbzwbX1MRp6"
      },
      "source": [
        "# Individual analysis"
      ]
    },
    {
      "cell_type": "code",
      "execution_count": null,
      "metadata": {
        "colab": {
          "base_uri": "https://localhost:8080/"
        },
        "id": "aJslx3-0LDkr",
        "outputId": "1ce7fb0f-03d9-4816-e8d5-f852a1b58324"
      },
      "outputs": [],
      "source": [
        "#Board reading\n",
        "# Trello URL: https://trello.com/b/my8N75db\n",
        "df = bomi.load_board(\"my8N75db\")\n",
        "begin_end_redesign = bomi.detect_redesign(df, pd.Timedelta('1D'), threshold_l_events=4)\n",
        "filtered_result = bomi.list_evolution(df, filter_short_lists=pd.Timedelta('30m'))\n",
        "cl = bomi.connected_lists(df, use='comb', threshold=0)\n",
        "df.shape"
      ]
    },
    {
      "cell_type": "code",
      "execution_count": null,
      "metadata": {
        "colab": {
          "base_uri": "https://localhost:8080/",
          "height": 1000
        },
        "id": "uttcTmZsLDku",
        "outputId": "456623d3-d74a-40e6-82a6-c4848510017e"
      },
      "outputs": [],
      "source": [
        "#Evolution of the lists of the board over time (x-axis). Each row represents a list. The vertical lines represent the structural updates (red when it starts and blue when it finishes).\n",
        "\n",
        "import matplotlib.pyplot as plt\n",
        "\n",
        "fig, ax = plt.subplots(figsize=(30, 20), edgecolor=\"black\", linewidth=1)\n",
        "bomi.plot_list_diagram(filtered_result, begin_end_redesign, ax)\n",
        "plt.show()\n"
      ]
    },
    {
      "cell_type": "code",
      "execution_count": null,
      "metadata": {
        "colab": {
          "base_uri": "https://localhost:8080/"
        },
        "id": "G_sXYM1rLDkw",
        "outputId": "049320f8-1373-4683-dbff-dbe232dbaae2"
      },
      "outputs": [],
      "source": [
        "#Board discovery: design (lists) and use (create and close cards, flow and semantic precedence)\n",
        "bd = bomi.board_discovery(df, use='id', sp_threshold=0)\n",
        "bd"
      ]
    },
    {
      "cell_type": "code",
      "execution_count": null,
      "metadata": {
        "colab": {
          "base_uri": "https://localhost:8080/",
          "height": 530
        },
        "id": "Q92f_n3nLDkx",
        "outputId": "4fcc9145-eedf-4f14-a749-77fb5eb8a8a4"
      },
      "outputs": [],
      "source": [
        "#Metrics\n",
        "info = bomi.static_metrics(df, begin_end_redesign)\n",
        "info"
      ]
    },
    {
      "cell_type": "code",
      "execution_count": null,
      "metadata": {
        "colab": {
          "base_uri": "https://localhost:8080/",
          "height": 206
        },
        "id": "Yfd5dU4vLDkz",
        "outputId": "6a658027-8ea2-4ea2-ddc2-fe1f1a1ef68f"
      },
      "outputs": [],
      "source": [
        "# Days between redesigns\n",
        "days_redesigns = pd.concat([begin_end_redesign['max'], begin_end_redesign['min'].shift(1, fill_value=df['date'].max())], keys=['first', 'last'], axis=1)\n",
        "days_redesigns"
      ]
    },
    {
      "cell_type": "code",
      "execution_count": null,
      "metadata": {
        "colab": {
          "base_uri": "https://localhost:8080/"
        },
        "id": "SdZfhD3ZLDk1",
        "outputId": "62591022-365b-4c72-e993-58390b3fba96"
      },
      "outputs": [],
      "source": [
        "#Filtering an interval of he entire log\n",
        "df_filter = df[(df[\"date\"] > days_redesigns.iloc[2]['first']) & (df[\"date\"] < days_redesigns.iloc[1][\"last\"])]\n",
        "df_filter.shape"
      ]
    },
    {
      "cell_type": "code",
      "execution_count": null,
      "metadata": {
        "colab": {
          "base_uri": "https://localhost:8080/"
        },
        "id": "EkrURjKFLDk2",
        "outputId": "542f013a-11f4-4432-a2ab-5976af0b3ee0"
      },
      "outputs": [],
      "source": [
        "#Board discovery (restricted at the interval)\n",
        "bomi.board_discovery(df_filter, use='id')"
      ]
    }
  ],
  "metadata": {
    "colab": {
      "name": "analysis-Oeagag Trello.ipynb",
      "provenance": []
    },
    "kernelspec": {
      "display_name": "Python 3.9.7 ('predmon')",
      "language": "python",
      "name": "python3"
    },
    "language_info": {
      "codemirror_mode": {
        "name": "ipython",
        "version": 3
      },
      "file_extension": ".py",
      "mimetype": "text/x-python",
      "name": "python",
      "nbconvert_exporter": "python",
      "pygments_lexer": "ipython3",
      "version": "3.9.7"
    },
    "orig_nbformat": 4,
    "vscode": {
      "interpreter": {
        "hash": "a1dc7e2d24032cad9abcb8456df1b64793421006866a3b532097bced468feca4"
      }
    }
  },
  "nbformat": 4,
  "nbformat_minor": 0
}
